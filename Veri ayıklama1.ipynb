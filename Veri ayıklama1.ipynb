{
 "cells": [
  {
   "cell_type": "code",
   "execution_count": 1,
   "id": "eda8d0fc",
   "metadata": {},
   "outputs": [],
   "source": [
    "import os \n",
    "import numpy as np\n",
    "import pandas as pd"
   ]
  },
  {
   "cell_type": "code",
   "execution_count": 2,
   "id": "142154b7",
   "metadata": {},
   "outputs": [],
   "source": [
    "def drop_columns(df, cols):\n",
    "    #cols: parametremiz kaldırılacak sütunlar içindir.\n",
    "    for col in cols:\n",
    "        try:\n",
    "            df.drop ([col], axis = 1, inplace = True)\n",
    "        except Exception as e:\n",
    "            print(f\"Burada bir hata ve {e}\")"
   ]
  },
  {
   "cell_type": "code",
   "execution_count": 3,
   "id": "98f846b6",
   "metadata": {},
   "outputs": [],
   "source": [
    "files = os.listdir('hepsiemlak')\n",
    "\n",
    "df = pd.concat([pd.read_csv(f\"hepsiemlak/{file}\")for file in files], ignore_index = True)"
   ]
  },
  {
   "cell_type": "code",
   "execution_count": 4,
   "id": "02dbb941",
   "metadata": {},
   "outputs": [
    {
     "name": "stdout",
     "output_type": "stream",
     "text": [
      "<class 'pandas.core.frame.DataFrame'>\n",
      "RangeIndex: 8136 entries, 0 to 8135\n",
      "Data columns (total 18 columns):\n",
      " #   Column               Non-Null Count  Dtype  \n",
      "---  ------               --------------  -----  \n",
      " 0   img-link href        8136 non-null   object \n",
      " 1   photo-count          8130 non-null   float64\n",
      " 2   list-view-price      8136 non-null   object \n",
      " 3   list-view-date       8136 non-null   object \n",
      " 4   left                 8114 non-null   object \n",
      " 5   celly                8136 non-null   object \n",
      " 6   celly 2              8136 non-null   object \n",
      " 7   celly 3              8136 non-null   object \n",
      " 8   celly 4              6858 non-null   object \n",
      " 9   list-view-location   8136 non-null   object \n",
      " 10  img-wrp href         4555 non-null   object \n",
      " 11  he-lazy-image src    7649 non-null   object \n",
      " 12  he-lazy-image src 2  4067 non-null   object \n",
      " 13  list-view-header     8129 non-null   object \n",
      " 14  branded__text        134 non-null    object \n",
      " 15  branded__text 2      134 non-null    object \n",
      " 16  img-wrp href 2       133 non-null    object \n",
      " 17  he-lazy-image src 3  116 non-null    object \n",
      "dtypes: float64(1), object(17)\n",
      "memory usage: 1.1+ MB\n",
      "None\n"
     ]
    }
   ],
   "source": [
    "print(df.info())"
   ]
  },
  {
   "cell_type": "code",
   "execution_count": 5,
   "id": "adb7a576",
   "metadata": {},
   "outputs": [
    {
     "name": "stdout",
     "output_type": "stream",
     "text": [
      "Index(['img-link href', 'photo-count', 'list-view-price', 'list-view-date',\n",
      "       'left', 'celly', 'celly 2', 'celly 3', 'celly 4', 'list-view-location',\n",
      "       'img-wrp href', 'he-lazy-image src', 'he-lazy-image src 2',\n",
      "       'list-view-header', 'branded__text', 'branded__text 2',\n",
      "       'img-wrp href 2', 'he-lazy-image src 3'],\n",
      "      dtype='object')\n"
     ]
    }
   ],
   "source": [
    "print(df.columns)"
   ]
  },
  {
   "cell_type": "code",
   "execution_count": 6,
   "id": "9ef7f94f",
   "metadata": {},
   "outputs": [],
   "source": [
    "cols = ['photo-count','list-view-header', 'list-view-location','he-lazy-image src',\n",
    "       'left', 'he-lazy-image src 2', 'branded__text', 'branded__text 2',  'img-wrp href 2', 'he-lazy-image src 3']\n",
    "\n",
    "drop_columns(df, cols)"
   ]
  },
  {
   "cell_type": "code",
   "execution_count": 7,
   "id": "713be373",
   "metadata": {},
   "outputs": [],
   "source": [
    "df['location'] = df['img-link href'].apply(lambda x: x.split('/')[3])\n",
    "#URL içerisinde konum bilgisini almak için 3'deki verileri istedik\n",
    "df['city'] = df['location'].str.split('-').str[0]\n",
    "#Şehir isimlerini lokasyondaki 0'ıncı indeksten çağırdık\n",
    "df['district'] = df['location'].str.split('-').str[1]\n",
    "#İlçe isimlerini yine lokasyondan ve 1'indeksten çekmiş olduk\n",
    "df['neighborhood'] = df['location'].str.split('-').str[2:-1]\n",
    "#Mahalle adını içeren kısımları almak için işlemimizi tamamlıyoruz.\n",
    "df['neighborhood'] =df['neighborhood'].apply(lambda x: '_'.join(x))\n",
    "#Mahalle adlarını tek bir string formatına çevirmeye yarar."
   ]
  },
  {
   "cell_type": "code",
   "execution_count": 8,
   "id": "ccd56765",
   "metadata": {},
   "outputs": [],
   "source": [
    "drop_columns(df, ['location', 'img-link href'])"
   ]
  },
  {
   "cell_type": "code",
   "execution_count": 9,
   "id": "f75ddb6f",
   "metadata": {},
   "outputs": [
    {
     "name": "stdout",
     "output_type": "stream",
     "text": [
      "<class 'pandas.core.frame.DataFrame'>\n",
      "RangeIndex: 8136 entries, 0 to 8135\n",
      "Data columns (total 10 columns):\n",
      " #   Column           Non-Null Count  Dtype \n",
      "---  ------           --------------  ----- \n",
      " 0   list-view-price  8136 non-null   object\n",
      " 1   list-view-date   8136 non-null   object\n",
      " 2   celly            8136 non-null   object\n",
      " 3   celly 2          8136 non-null   object\n",
      " 4   celly 3          8136 non-null   object\n",
      " 5   celly 4          6858 non-null   object\n",
      " 6   img-wrp href     4555 non-null   object\n",
      " 7   city             8136 non-null   object\n",
      " 8   district         8136 non-null   object\n",
      " 9   neighborhood     8136 non-null   object\n",
      "dtypes: object(10)\n",
      "memory usage: 635.8+ KB\n",
      "None\n"
     ]
    }
   ],
   "source": [
    "print(df.info())"
   ]
  },
  {
   "cell_type": "code",
   "execution_count": 10,
   "id": "574a4a38",
   "metadata": {},
   "outputs": [],
   "source": [
    "drop_columns(df, ['img-wrp href'])"
   ]
  },
  {
   "cell_type": "code",
   "execution_count": 11,
   "id": "65b0beab",
   "metadata": {},
   "outputs": [
    {
     "name": "stdout",
     "output_type": "stream",
     "text": [
      "                city      district     neighborhood\n",
      "1845           izmir          buca        camlikule\n",
      "6155           mugla        bodrum     pinarlibelen\n",
      "336            izmir          buca         yaylacik\n",
      "3921         kutahya      tavsanli          omerbey\n",
      "2390           izmir        dikili         candarli\n",
      "7367           mugla        ortaca        guzelyurt\n",
      "6272           mugla       mentese          yenikoy\n",
      "5051         denizli  merkezefendi       servergazi\n",
      "2262           izmir    guzelbahce             yali\n",
      "2754           izmir         cesme          alacati\n",
      "1992           izmir         cigli         balatcik\n",
      "1098           izmir         konak         alsancak\n",
      "6519           mugla      koycegiz         toparlar\n",
      "5669         denizli  merkezefendi      degirmenonu\n",
      "4560           aydin      kusadasi  kadinlar_denizi\n",
      "2826           izmir         konak      mimar_sinan\n",
      "7115           mugla        bodrum           dirmil\n",
      "3537           izmir          urla          kalabak\n",
      "1003           izmir          buca           efeler\n",
      "3751          manisa     yunusemre         muradiye\n",
      "3100           izmir   seferihisar          ataturk\n",
      "4189           aydin      kusadasi          turkmen\n",
      "2184           izmir     karsiyaka         bostanli\n",
      "5887           mugla        bodrum         kumbahce\n",
      "480            izmir         konak       kilic_reis\n",
      "7207           mugla       dalaman        kizilkaya\n",
      "7203           mugla       dalaman           merkez\n",
      "1000           izmir         konak         alsancak\n",
      "2244           izmir      bayrakli       mansuroglu\n",
      "3997  afyonkarahisar        merkez          erenler\n",
      "464            izmir       bergama            fatih\n",
      "4496           aydin          soke        fevzipasa\n",
      "6458           mugla        bodrum        yalikavak\n",
      "2882           izmir          urla           iskele\n",
      "6270           mugla       dalaman         karacali\n",
      "1296           izmir     karsiyaka             yali\n",
      "7662           mugla      marmaris          siteler\n",
      "7741           mugla        bodrum         gundogan\n",
      "7523           mugla        bodrum        eskicesme\n",
      "6699           mugla        bodrum           gumbet\n",
      "4333           aydin         didim            akbuk\n",
      "1997           izmir         konak         alsancak\n",
      "5768           mugla        bodrum         gundogan\n",
      "7600           mugla        bodrum           gumbet\n",
      "650            izmir         konak       halkapinar\n",
      "3450           izmir         cesme          sakarya\n",
      "4614           aydin        efeler   adnan_menderes\n",
      "2849           izmir         cesme      ismet_inonu\n",
      "3976  afyonkarahisar        merkez          erenler\n",
      "4862         denizli     pamukkale      asmalievler\n"
     ]
    }
   ],
   "source": [
    "print(df[['city', 'district', 'neighborhood']].sample(50))"
   ]
  },
  {
   "cell_type": "code",
   "execution_count": 12,
   "id": "60e8cef9",
   "metadata": {},
   "outputs": [
    {
     "name": "stdout",
     "output_type": "stream",
     "text": [
      "['1 +\\n                        1' '3 +\\n                        1'\n",
      " '2 +\\n                        1' '4 +\\n                        1'\n",
      " '4 +\\n                        2' '5 +\\n                        1'\n",
      " '6 +\\n                        1' '7 +\\n                        1'\n",
      " '21 +\\n                        1' '6 +\\n                        2'\n",
      " '5 +\\n                        2' 'Stüdyo'\n",
      " '7 +\\n                        2' '3 +\\n                        2'\n",
      " '2 +\\n                        0' '6 +\\n                        0'\n",
      " '9 +\\n                        4' '9 +\\n                        1'\n",
      " '3 +\\n                        0' '1 +\\n                        15'\n",
      " '2 +\\n                        2' '8 +\\n                        1'\n",
      " '41 +\\n                        4' '4 +\\n                        0'\n",
      " '1 +\\n                        25' '4 +\\n                        4'\n",
      " '3 +\\n                        4' '1 +\\n                        2'\n",
      " '3 +\\n                        3' '31 +\\n                        1'\n",
      " '4 +\\n                        3' '9 +\\n                        5'\n",
      " '8 +\\n                        4' '4 +\\n                        5'\n",
      " '9 +\\n                        3' '25 +\\n                        5'\n",
      " '8 +\\n                        0' '9 +\\n                        9'\n",
      " '14 +\\n                        6' '10 +\\n                        1']\n"
     ]
    }
   ],
   "source": [
    "print(df['celly'].unique())\n",
    "#Buradaki celly değeri bize daire toplamını veririr"
   ]
  },
  {
   "cell_type": "code",
   "execution_count": 13,
   "id": "b7fda36c",
   "metadata": {},
   "outputs": [],
   "source": [
    "df['celly'] = df['celly'].apply(lambda x: x.replace('Stüdyo', '1 + 0'))\n",
    "#Stüdyo olan değerimizi 1 + 0 ile yani sayısal tanımlaya uygun olacak şekilde verimizi güncelledik\n",
    "\n",
    "df['celly'] = df['celly'].apply(lambda x: x.replace('\\n', ''))\n",
    "#aldığı değerin satır sonunu verilen n değerini boşluk ile değiştirir\n",
    "\n",
    "df['room'] = df['celly'].apply(lambda x: x.split('+')[0]).astype(int)\n",
    "#Burada Oda sayısını belirlediğimiz için bir değişken oluşturuyoruz ve işlemimizi 0'cı indekde bulanan yani oda sayına karşılık gelen kısmı alıyoruz\n",
    "df['living_room'] = df['celly'].apply(lambda x: x.split('+')[1]).astype(int)\n",
    "#Oturma odası değeri ise 1 indekste bulunuyor"
   ]
  },
  {
   "cell_type": "code",
   "execution_count": 14,
   "id": "9af914b9",
   "metadata": {},
   "outputs": [
    {
     "name": "stdout",
     "output_type": "stream",
     "text": [
      "[ 1  3  2  4  5  6  7 21  9  8 41 31 25 14 10]\n",
      "[ 1  2  0  4 15 25  3  5  9  6]\n"
     ]
    }
   ],
   "source": [
    "print(df['room'].unique())\n",
    "print(df['living_room'].unique())"
   ]
  },
  {
   "cell_type": "code",
   "execution_count": 15,
   "id": "2f682abc",
   "metadata": {},
   "outputs": [],
   "source": [
    "drop_columns(df, ['celly'])"
   ]
  },
  {
   "cell_type": "code",
   "execution_count": 16,
   "id": "ffb9f1ac",
   "metadata": {},
   "outputs": [
    {
     "name": "stdout",
     "output_type": "stream",
     "text": [
      "<class 'pandas.core.frame.DataFrame'>\n",
      "RangeIndex: 8136 entries, 0 to 8135\n",
      "Data columns (total 10 columns):\n",
      " #   Column           Non-Null Count  Dtype \n",
      "---  ------           --------------  ----- \n",
      " 0   list-view-price  8136 non-null   object\n",
      " 1   list-view-date   8136 non-null   object\n",
      " 2   celly 2          8136 non-null   object\n",
      " 3   celly 3          8136 non-null   object\n",
      " 4   celly 4          6858 non-null   object\n",
      " 5   city             8136 non-null   object\n",
      " 6   district         8136 non-null   object\n",
      " 7   neighborhood     8136 non-null   object\n",
      " 8   room             8136 non-null   int32 \n",
      " 9   living_room      8136 non-null   int32 \n",
      "dtypes: int32(2), object(8)\n",
      "memory usage: 572.2+ KB\n",
      "None\n"
     ]
    }
   ],
   "source": [
    "print(df.info())"
   ]
  },
  {
   "cell_type": "code",
   "execution_count": 17,
   "id": "4ce58c54",
   "metadata": {},
   "outputs": [
    {
     "name": "stdout",
     "output_type": "stream",
     "text": [
      "['55 m²' '150 m²' '60 m²' '160 m²' '135 m²' '67 m²' '140 m²' '170 m²'\n",
      " '130 m²' '230 m²' '220 m²' '210 m²' '89 m²' '120 m²' '200 m²' '355 m²'\n",
      " '75 m²' '110 m²' '100 m²' '65 m²' '145 m²' '115 m²' '1.000 m²' '250 m²'\n",
      " '105 m²' '50 m²' '87 m²' '90 m²' '85 m²' '155 m²' '275 m²' '240 m²'\n",
      " '95 m²' '174 m²' '80 m²' '125 m²' '180 m²' '165 m²' '350 m²' '97 m²'\n",
      " '45 m²' '300 m²' '84 m²' '42 m²' '98 m²' '86 m²' '500 m²' '70 m²' '51 m²'\n",
      " '73 m²' '132 m²' '325 m²' '141 m²' '450 m²' '600 m²' '47 m²' '72 m²'\n",
      " '71 m²' '3.000 m²' '175 m²' '320 m²' '280 m²' '156 m²' '190 m²' '78 m²'\n",
      " '162 m²' '185 m²' '18 m²' '330 m²' '151 m²' '56 m²' '136 m²' '131 m²'\n",
      " '48 m²' '580 m²' '119 m²' '147 m²' '77 m²' '245 m²' '35 m²' '375 m²'\n",
      " '146 m²' '161 m²' '163 m²' '149 m²' '206 m²' '138 m²' '93 m²' '63 m²'\n",
      " '41 m²' '183 m²' '96 m²' '108 m²' '76 m²' '475 m²' '359 m²' '124 m²'\n",
      " '91 m²' '194 m²' '43 m²' '4.500 m²' '68 m²' '205 m²' '20 m²' '103 m²'\n",
      " '53 m²' '270 m²' '58 m²' '302 m²' '505 m²' '800 m²' '168 m²' '154 m²'\n",
      " '368 m²' '178 m²' '40 m²' '750 m²' '92 m²' '181 m²' '400 m²' '30 m²'\n",
      " '260 m²' '460 m²' '390 m²' '64 m²' '360 m²' '340 m²' '550 m²' '38 m²'\n",
      " '121 m²' '4.000 m²' '295 m²' '112 m²' '137 m²' '22 m²' '128 m²'\n",
      " '3.200 m²' '440 m²' '122 m²' '370 m²' '380 m²' '204 m²' '148 m²' '142 m²'\n",
      " '520 m²' '166 m²' '870 m²' '143 m²' '57 m²' '286 m²' '81 m²' '116 m²'\n",
      " '209 m²' '59 m²' '106 m²' '74 m²' '1.301 m²' '52 m²' '167 m²' '217 m²'\n",
      " '25 m²' '290 m²' '196 m²' '184 m²' '159 m²' '195 m²' '640 m²' '285 m²'\n",
      " '235 m²' '337 m²' '211 m²' '134 m²' '832 m²' '152 m²' '88 m²' '213 m²'\n",
      " '126 m²' '255 m²' '199 m²' '127 m²' '11 m²' '66 m²' '399 m²' '187 m²'\n",
      " '341 m²' '745 m²' '118 m²' '144 m²' '15 m²' '535 m²' '5.500 m²' '114 m²'\n",
      " '208 m²' '94 m²' '46 m²' '173 m²' '900 m²' '225 m²' '402 m²' '111 m²'\n",
      " '193 m²' '1.100 m²' '212 m²' '102 m²' '177 m²' '101 m²' '164 m²' '158 m²'\n",
      " '62 m²' '172 m²' '9.000 m²' '21 m²' '117 m²' '82 m²' '49 m²' '176 m²'\n",
      " '182 m²' '981 m²' '256 m²' '32 m²' '3.510 m²' '215 m²' '1.057 m²'\n",
      " '171 m²' '79 m²' '169 m²' '28 m²' '104 m²' '201 m²' '310 m²' '1.150 m²'\n",
      " '2.000 m²' '228 m²' '700 m²' '349 m²' '203 m²' '510 m²' '31 m²' '33 m²'\n",
      " '950 m²' '650 m²' '252 m²' '493 m²' '265 m²' '1.400 m²' '5 m²' '113 m²'\n",
      " '36 m²' '317 m²' '850 m²' '249 m²' '109 m²' '420 m²' '995 m²' '545 m²'\n",
      " '192 m²' '1.250 m²' '490 m²' '760 m²' '157 m²' '54 m²' '405 m²' '99 m²']\n"
     ]
    }
   ],
   "source": [
    "print(df['celly 2'].unique())\n",
    "#Buradaki değer ise dairenin toplam kaç metre kare olduğu belirtir."
   ]
  },
  {
   "cell_type": "code",
   "execution_count": 18,
   "id": "c2913721",
   "metadata": {},
   "outputs": [],
   "source": [
    "df['celly 2'] = df['celly 2'].apply(lambda x: x.replace('.', ''))\n",
    "#Arasında nokta olan değerin noktasını kaldır\n",
    "\n",
    "df['area'] = df['celly 2'].apply(lambda x: x.split(' ')[0]).astype(int)\n",
    "#Burada metrakare değerlerimi elde etmiş oluyorum"
   ]
  },
  {
   "cell_type": "code",
   "execution_count": 19,
   "id": "ecfec247",
   "metadata": {},
   "outputs": [
    {
     "name": "stdout",
     "output_type": "stream",
     "text": [
      "[  55  150   60  160  135   67  140  170  130  230  220  210   89  120\n",
      "  200  355   75  110  100   65  145  115 1000  250  105   50   87   90\n",
      "   85  155  275  240   95  174   80  125  180  165  350   97   45  300\n",
      "   84   42   98   86  500   70   51   73  132  325  141  450  600   47\n",
      "   72   71 3000  175  320  280  156  190   78  162  185   18  330  151\n",
      "   56  136  131   48  580  119  147   77  245   35  375  146  161  163\n",
      "  149  206  138   93   63   41  183   96  108   76  475  359  124   91\n",
      "  194   43 4500   68  205   20  103   53  270   58  302  505  800  168\n",
      "  154  368  178   40  750   92  181  400   30  260  460  390   64  360\n",
      "  340  550   38  121 4000  295  112  137   22  128 3200  440  122  370\n",
      "  380  204  148  142  520  166  870  143   57  286   81  116  209   59\n",
      "  106   74 1301   52  167  217   25  290  196  184  159  195  640  285\n",
      "  235  337  211  134  832  152   88  213  126  255  199  127   11   66\n",
      "  399  187  341  745  118  144   15  535 5500  114  208   94   46  173\n",
      "  900  225  402  111  193 1100  212  102  177  101  164  158   62  172\n",
      " 9000   21  117   82   49  176  182  981  256   32 3510  215 1057  171\n",
      "   79  169   28  104  201  310 1150 2000  228  700  349  203  510   31\n",
      "   33  950  650  252  493  265 1400    5  113   36  317  850  249  109\n",
      "  420  995  545  192 1250  490  760  157   54  405   99]\n"
     ]
    }
   ],
   "source": [
    "print(df['area'].unique())"
   ]
  },
  {
   "cell_type": "code",
   "execution_count": 20,
   "id": "9e53ef10",
   "metadata": {},
   "outputs": [],
   "source": [
    "drop_columns(df, ['celly 2'])"
   ]
  },
  {
   "cell_type": "code",
   "execution_count": 21,
   "id": "7fd17cb5",
   "metadata": {},
   "outputs": [
    {
     "name": "stdout",
     "output_type": "stream",
     "text": [
      "<class 'pandas.core.frame.DataFrame'>\n",
      "RangeIndex: 8136 entries, 0 to 8135\n",
      "Data columns (total 10 columns):\n",
      " #   Column           Non-Null Count  Dtype \n",
      "---  ------           --------------  ----- \n",
      " 0   list-view-price  8136 non-null   object\n",
      " 1   list-view-date   8136 non-null   object\n",
      " 2   celly 3          8136 non-null   object\n",
      " 3   celly 4          6858 non-null   object\n",
      " 4   city             8136 non-null   object\n",
      " 5   district         8136 non-null   object\n",
      " 6   neighborhood     8136 non-null   object\n",
      " 7   room             8136 non-null   int32 \n",
      " 8   living_room      8136 non-null   int32 \n",
      " 9   area             8136 non-null   int32 \n",
      "dtypes: int32(3), object(7)\n",
      "memory usage: 540.4+ KB\n",
      "None\n"
     ]
    }
   ],
   "source": [
    "print(df.info())"
   ]
  },
  {
   "cell_type": "code",
   "execution_count": 22,
   "id": "100ddc51",
   "metadata": {},
   "outputs": [
    {
     "name": "stdout",
     "output_type": "stream",
     "text": [
      "['25\\n                      Yaşında' '35\\n                      Yaşında'\n",
      " '2\\n                      Yaşında' '27\\n                      Yaşında'\n",
      " '15\\n                      Yaşında' '10\\n                      Yaşında'\n",
      " '20\\n                      Yaşında' '30\\n                      Yaşında'\n",
      " '16\\n                      Yaşında' '11\\n                      Yaşında'\n",
      " '31\\n                      Yaşında' 'Sıfır Bina'\n",
      " '5\\n                      Yaşında' '26\\n                      Yaşında'\n",
      " '12\\n                      Yaşında' '4\\n                      Yaşında'\n",
      " '6\\n                      Yaşında' '22\\n                      Yaşında'\n",
      " '23\\n                      Yaşında' '29\\n                      Yaşında'\n",
      " '3\\n                      Yaşında' '8\\n                      Yaşında'\n",
      " '33\\n                      Yaşında' '50\\n                      Yaşında'\n",
      " '7\\n                      Yaşında' '18\\n                      Yaşında'\n",
      " '32\\n                      Yaşında' '28\\n                      Yaşında'\n",
      " '14\\n                      Yaşında' '40\\n                      Yaşında'\n",
      " '9\\n                      Yaşında' '21\\n                      Yaşında'\n",
      " '45\\n                      Yaşında' '38\\n                      Yaşında'\n",
      " '19\\n                      Yaşında' '24\\n                      Yaşında'\n",
      " '17\\n                      Yaşında' '1\\n                      Yaşında'\n",
      " '36\\n                      Yaşında' '34\\n                      Yaşında'\n",
      " '13\\n                      Yaşında' '42\\n                      Yaşında'\n",
      " '44\\n                      Yaşında' '43\\n                      Yaşında'\n",
      " '37\\n                      Yaşında' '55\\n                      Yaşında'\n",
      " '47\\n                      Yaşında' '39\\n                      Yaşında'\n",
      " '49\\n                      Yaşında' '52\\n                      Yaşında'\n",
      " '300\\n                      Yaşında' '199\\n                      Yaşında'\n",
      " '48\\n                      Yaşında' '60\\n                      Yaşında'\n",
      " '61\\n                      Yaşında' '600\\n                      Yaşında'\n",
      " '100\\n                      Yaşında']\n"
     ]
    }
   ],
   "source": [
    "print(df['celly 3'].unique())\n",
    "#Burada bina yaşını depolayan yani içerisinde istediğim bina yaş verilerine ulaşabilirim"
   ]
  },
  {
   "cell_type": "code",
   "execution_count": 24,
   "id": "0e245b9a",
   "metadata": {},
   "outputs": [],
   "source": [
    "df['celly 3'] = df['celly 3'].apply(lambda x: x.replace('Sıfır Bina', '0 Yaşında'))\n",
    "#Binanın sıfır olduğunu yaşına göre gösteriyoruz.\n",
    "df['celly 3'] = df['celly 3'].apply(lambda x: x.replace('\\n', ' '))\n",
    "#Burada yaptığımız işlen sonlarındaki kaçma komutu olan yani \\n kaldırıyoruz\n",
    "df['age'] = df['celly 3'].apply(lambda x: x.split(' ')[0]).astype(int)"
   ]
  },
  {
   "cell_type": "code",
   "execution_count": 25,
   "id": "4e912f3f",
   "metadata": {},
   "outputs": [
    {
     "name": "stdout",
     "output_type": "stream",
     "text": [
      "[ 25  35   2  27  15  10  20  30  16  11  31   0   5  26  12   4   6  22\n",
      "  23  29   3   8  33  50   7  18  32  28  14  40   9  21  45  38  19  24\n",
      "  17   1  36  34  13  42  44  43  37  55  47  39  49  52 300 199  48  60\n",
      "  61 600 100]\n"
     ]
    }
   ],
   "source": [
    "print(df['age'].unique())"
   ]
  },
  {
   "cell_type": "code",
   "execution_count": 26,
   "id": "9abc6188",
   "metadata": {},
   "outputs": [],
   "source": [
    "drop_columns(df, ['celly 3'])"
   ]
  },
  {
   "cell_type": "code",
   "execution_count": 29,
   "id": "376f5838",
   "metadata": {},
   "outputs": [
    {
     "name": "stdout",
     "output_type": "stream",
     "text": [
      "['1.Kat' '3. Kat' '4. Kat' '2. Kat' '0. Kat' 'nan' '1. Kat' '8. Kat'\n",
      " '6. Kat' '5. Kat' '7. Kat' '21. Kat' '13. Kat' '-1. Kat' '9. Kat'\n",
      " '10. Kat' '12. Kat' '-2. Kat' '15. Kat' '11. Kat' '-3. Kat' '18. Kat'\n",
      " '20. Kat' '14. Kat' '16. Kat' '17. Kat' '19. Kat']\n"
     ]
    }
   ],
   "source": [
    "print(df['celly 4'].unique())\n",
    "#Burada celly 4 ile kat değerlerini öğreniyoruz."
   ]
  },
  {
   "cell_type": "code",
   "execution_count": 30,
   "id": "3ab26190",
   "metadata": {},
   "outputs": [],
   "source": [
    "replace_dict = {\n",
    "    'Kot 2': '-2. Kat',\n",
    "    'Kot 1': '-1. Kat',\n",
    "    'Yüksek Giriş': '1.Kat',\n",
    "    'Ara Kat': '3. Kat',\n",
    "    'En Üst Kat': '5. Kat',\n",
    "    'Bahçe Katı': '0. Kat',\n",
    "    'Yarı Bodrum': '0. Kat',\n",
    "    'Bodrum': '0. Kat',\n",
    "    'Kot 3': '-3. Kat',\n",
    "    'Çatı Katı': '5. Kat',\n",
    "    'Villa Katı': '0. Kat',\n",
    "    'Zemin': '0. Kat',\n",
    "    'Giriş Katı': '0. Kat',\n",
    "    '21 ve üzeri': '21. Kat',\n",
    "    'Bodrum ve Zemin': '0. Kat',\n",
    "    'Asma Kat': '1. Kat',\n",
    "    'Tripleks': '0. Kat',\n",
    "    'Teras Katı': '5. Kat',\n",
    "    'nan': '2. Kat',\n",
    "}\n",
    "#Replace ile elimizde bulanan veri değerlerinin daha anlaşılır ve veride kullanırken daha verimli sonuçları almak için tanımlarını değiştiriyoruz.\n",
    "\n",
    "df['celly 4'] = df['celly 4'].replace(replace_dict.keys(), replace_dict.values()).astype(str)\n",
    "#Burada anahtar kelime ve değerlerini ekleyerek değiştir diyoruz.\n",
    "df['celly 4'].dropna(inplace = True)\n",
    "#Boşluk olan değerleri kaldırmak için yani nan gördüğü verileri kaldırır.\n",
    "\n",
    "df['floor'] = df['celly 4'].apply(lambda x: x.split('.')[0]).astype(int)\n"
   ]
  },
  {
   "cell_type": "code",
   "execution_count": 31,
   "id": "68469d7b",
   "metadata": {},
   "outputs": [
    {
     "name": "stdout",
     "output_type": "stream",
     "text": [
      "[ 1  3  4  2  0  8  6  5  7 21 13 -1  9 10 12 -2 15 11 -3 18 20 14 16 17\n",
      " 19]\n"
     ]
    }
   ],
   "source": [
    "print(df['floor'].unique())"
   ]
  },
  {
   "cell_type": "code",
   "execution_count": null,
   "id": "06840565",
   "metadata": {},
   "outputs": [],
   "source": []
  }
 ],
 "metadata": {
  "kernelspec": {
   "display_name": "Python 3 (ipykernel)",
   "language": "python",
   "name": "python3"
  },
  "language_info": {
   "codemirror_mode": {
    "name": "ipython",
    "version": 3
   },
   "file_extension": ".py",
   "mimetype": "text/x-python",
   "name": "python",
   "nbconvert_exporter": "python",
   "pygments_lexer": "ipython3",
   "version": "3.10.9"
  }
 },
 "nbformat": 4,
 "nbformat_minor": 5
}
